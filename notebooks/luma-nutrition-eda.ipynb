{
 "cells": [
  {
   "cell_type": "code",
   "execution_count": 1,
   "metadata": {},
   "outputs": [],
   "source": [
    "import os\n",
    "import pandas as pd\n",
    "import numpy as np\n",
    "import seaborn as sns\n",
    "import matplotlib.pyplot as plt"
   ]
  },
  {
   "cell_type": "code",
   "execution_count": 2,
   "metadata": {},
   "outputs": [
    {
     "name": "stdout",
     "output_type": "stream",
     "text": [
      "<class 'pandas.core.frame.DataFrame'>\n",
      "Index: 41026 entries, 0 to 19491\n",
      "Data columns (total 44 columns):\n",
      " #   Column                                                                   Non-Null Count  Dtype  \n",
      "---  ------                                                                   --------------  -----  \n",
      " 0   Ads                                                                      41024 non-null  object \n",
      " 1   Age                                                                      41024 non-null  object \n",
      " 2   Gender                                                                   41024 non-null  object \n",
      " 3   Day                                                                      41024 non-null  object \n",
      " 4   Reach                                                                    40695 non-null  float64\n",
      " 5   Impressions                                                              40870 non-null  float64\n",
      " 6   Frequency                                                                40695 non-null  float64\n",
      " 7   Currency                                                                 41026 non-null  object \n",
      " 8   Amount spent (USD)                                                       39137 non-null  float64\n",
      " 9   Attribution setting                                                      41024 non-null  object \n",
      " 10  Clicks (all)                                                             16305 non-null  float64\n",
      " 11  CPC (all)                                                                16277 non-null  float64\n",
      " 12  CTR (all)                                                                16305 non-null  float64\n",
      " 13  Gross impressions (includes invalid impressions from non-human traffic)  40873 non-null  float64\n",
      " 14  CPM (cost per 1,000 impressions)                                         39137 non-null  float64\n",
      " 15  Page engagement                                                          16869 non-null  float64\n",
      " 16  Follows or likes                                                         20 non-null     float64\n",
      " 17  Post comments                                                            700 non-null    float64\n",
      " 18  Post engagements                                                         16868 non-null  float64\n",
      " 19  Post reactions                                                           6464 non-null   float64\n",
      " 20  Post shares                                                              1033 non-null   float64\n",
      " 21  Cost per Page engagement                                                 16786 non-null  float64\n",
      " 22  Cost per follow or like                                                  20 non-null     float64\n",
      " 23  Cost per post engagement                                                 16785 non-null  float64\n",
      " 24  3-second video plays                                                     5658 non-null   float64\n",
      " 25  Video plays at 25%                                                       4952 non-null   float64\n",
      " 26  Video plays at 50%                                                       4113 non-null   float64\n",
      " 27  Video plays at 75%                                                       3556 non-null   float64\n",
      " 28  Video plays at 95%                                                       3223 non-null   float64\n",
      " 29  Video plays at 100%                                                      3159 non-null   float64\n",
      " 30  Cost per 3-second video play                                             5584 non-null   float64\n",
      " 31  Link clicks                                                              12068 non-null  float64\n",
      " 32  CTR (link click-through rate)                                            12068 non-null  float64\n",
      " 33  CPC (cost per link click)                                                12061 non-null  float64\n",
      " 34  Adds to cart                                                             1916 non-null   float64\n",
      " 35  Cost per add to cart                                                     1885 non-null   float64\n",
      " 36  Adds to wishlist                                                         3 non-null      float64\n",
      " 37  Cost per add to wishlist                                                 2 non-null      float64\n",
      " 38  Content views                                                            6127 non-null   float64\n",
      " 39  Cost per content view                                                    5981 non-null   float64\n",
      " 40  Content views conversion value                                           6126 non-null   float64\n",
      " 41  Purchases                                                                1621 non-null   float64\n",
      " 42  Cost per purchase                                                        1593 non-null   float64\n",
      " 43  Purchases conversion value                                               1621 non-null   float64\n",
      "dtypes: float64(38), object(6)\n",
      "memory usage: 14.1+ MB\n"
     ]
    }
   ],
   "source": [
    "df_b = pd.read_csv(\"../data/Luma-Meta-Apr-1-2024-to-Jun-30-2024.csv\")\n",
    "df_a = pd.read_csv(\"../data/Luma-Meta-Jan-1-2024-to-Mar-31-2024.csv\")\n",
    "df_concatenated = pd.concat([df_a, df_b]).iloc[:, :-2]\n",
    "\n",
    "start_date = \"2024-01-01\"\n",
    "end_date = \"2024-06-30\"\n",
    "\n",
    "df_concatenated.info()\n"
   ]
  },
  {
   "cell_type": "code",
   "execution_count": 6,
   "metadata": {},
   "outputs": [
    {
     "name": "stdout",
     "output_type": "stream",
     "text": [
      "Index(['Follows or likes', 'Post comments', 'Cost per follow or like',\n",
      "       'Adds to wishlist', 'Cost per add to wishlist'],\n",
      "      dtype='object')\n",
      "<class 'pandas.core.frame.DataFrame'>\n",
      "Index: 41026 entries, 0 to 19491\n",
      "Data columns (total 39 columns):\n",
      " #   Column                                                                   Non-Null Count  Dtype  \n",
      "---  ------                                                                   --------------  -----  \n",
      " 0   Ads                                                                      41024 non-null  object \n",
      " 1   Age                                                                      41024 non-null  object \n",
      " 2   Gender                                                                   41024 non-null  object \n",
      " 3   Day                                                                      41024 non-null  object \n",
      " 4   Reach                                                                    40695 non-null  float64\n",
      " 5   Impressions                                                              40870 non-null  float64\n",
      " 6   Frequency                                                                40695 non-null  float64\n",
      " 7   Currency                                                                 41026 non-null  object \n",
      " 8   Amount spent (USD)                                                       39137 non-null  float64\n",
      " 9   Attribution setting                                                      41024 non-null  object \n",
      " 10  Clicks (all)                                                             16305 non-null  float64\n",
      " 11  CPC (all)                                                                16277 non-null  float64\n",
      " 12  CTR (all)                                                                16305 non-null  float64\n",
      " 13  Gross impressions (includes invalid impressions from non-human traffic)  40873 non-null  float64\n",
      " 14  CPM (cost per 1,000 impressions)                                         39137 non-null  float64\n",
      " 15  Page engagement                                                          16869 non-null  float64\n",
      " 16  Post engagements                                                         16868 non-null  float64\n",
      " 17  Post reactions                                                           6464 non-null   float64\n",
      " 18  Post shares                                                              1033 non-null   float64\n",
      " 19  Cost per Page engagement                                                 16786 non-null  float64\n",
      " 20  Cost per post engagement                                                 16785 non-null  float64\n",
      " 21  3-second video plays                                                     5658 non-null   float64\n",
      " 22  Video plays at 25%                                                       4952 non-null   float64\n",
      " 23  Video plays at 50%                                                       4113 non-null   float64\n",
      " 24  Video plays at 75%                                                       3556 non-null   float64\n",
      " 25  Video plays at 95%                                                       3223 non-null   float64\n",
      " 26  Video plays at 100%                                                      3159 non-null   float64\n",
      " 27  Cost per 3-second video play                                             5584 non-null   float64\n",
      " 28  Link clicks                                                              12068 non-null  float64\n",
      " 29  CTR (link click-through rate)                                            12068 non-null  float64\n",
      " 30  CPC (cost per link click)                                                12061 non-null  float64\n",
      " 31  Adds to cart                                                             1916 non-null   float64\n",
      " 32  Cost per add to cart                                                     1885 non-null   float64\n",
      " 33  Content views                                                            6127 non-null   float64\n",
      " 34  Cost per content view                                                    5981 non-null   float64\n",
      " 35  Content views conversion value                                           6126 non-null   float64\n",
      " 36  Purchases                                                                1621 non-null   float64\n",
      " 37  Cost per purchase                                                        1593 non-null   float64\n",
      " 38  Purchases conversion value                                               1621 non-null   float64\n",
      "dtypes: float64(33), object(6)\n",
      "memory usage: 12.5+ MB\n"
     ]
    }
   ],
   "source": [
    "columns_to_drop = [16, 17, 22, 36, 37]  # Example indices of columns to drop\n",
    "\n",
    "# Convert column indices to column names\n",
    "columns_to_drop_names = df_concatenated.columns[columns_to_drop]\n",
    "print(columns_to_drop_names)\n",
    "\n",
    "\n",
    "# Drop the columns by name\n",
    "df_dropped = df_concatenated.drop(columns=columns_to_drop_names, axis=1)\n",
    "\n",
    "df_dropped.info()"
   ]
  },
  {
   "cell_type": "code",
   "execution_count": null,
   "metadata": {},
   "outputs": [],
   "source": [
    "data = df_concatenated.iloc[:, 1:]\n",
    "summary_dict = {'cols':data.columns,'unique':[],\"count\":[],\"sum\":[]}\n",
    "for col in data.columns:\n",
    "    if data[col].dtype in ['int64', 'float64']:  # Check if the column is numerical\n",
    "        summary_dict[\"sum\"].append(data[col].sum())\n",
    "    else:\n",
    "        summary_dict[\"sum\"].append(np.nan)\n",
    "        \n",
    "    summary_dict['unique'].append(data[col].nunique())\n",
    "    summary_dict['count'].append(data[col].count())\n",
    "\n",
    "summary_df = pd.DataFrame.from_dict(summary_dict)\n",
    "summary_df "
   ]
  },
  {
   "cell_type": "code",
   "execution_count": null,
   "metadata": {},
   "outputs": [],
   "source": [
    "data.info()"
   ]
  },
  {
   "cell_type": "code",
   "execution_count": null,
   "metadata": {},
   "outputs": [],
   "source": [
    "# Convert 'Day' column to datetime format\n",
    "data['Day'] = pd.to_datetime(data['Day'])\n",
    "\n",
    "# Group data by day and calculate sum of impressions\n",
    "impressions_timeseries = data.groupby('Day')['Impressions'].sum()\n",
    "\n",
    "# Print the time series\n",
    "print(impressions_timeseries)\n",
    "\n",
    "import matplotlib.pyplot as plt\n",
    "\n",
    "# Convert the index of impressions_timeseries to datetime\n",
    "impressions_timeseries.index = pd.to_datetime(impressions_timeseries.index)\n",
    "\n",
    "# Plot the timeseries\n",
    "plt.figure(figsize=(12, 6))\n",
    "plt.plot(impressions_timeseries.index, impressions_timeseries.values)\n",
    "plt.title('Impressions Timeseries')\n",
    "plt.xlabel('Date')\n",
    "plt.ylabel('Impressions')\n",
    "plt.grid(True)\n",
    "plt.show()"
   ]
  },
  {
   "cell_type": "markdown",
   "metadata": {},
   "source": [
    "Made changes."
   ]
  },
  {
   "cell_type": "code",
   "execution_count": null,
   "metadata": {},
   "outputs": [],
   "source": [
    "\n"
   ]
  },
  {
   "cell_type": "code",
   "execution_count": null,
   "metadata": {},
   "outputs": [],
   "source": []
  }
 ],
 "metadata": {
  "kernelspec": {
   "display_name": "Python 3",
   "language": "python",
   "name": "python3"
  },
  "language_info": {
   "codemirror_mode": {
    "name": "ipython",
    "version": 3
   },
   "file_extension": ".py",
   "mimetype": "text/x-python",
   "name": "python",
   "nbconvert_exporter": "python",
   "pygments_lexer": "ipython3",
   "version": "3.10.13"
  }
 },
 "nbformat": 4,
 "nbformat_minor": 2
}
